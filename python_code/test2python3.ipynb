{
 "cells": [
  {
   "cell_type": "markdown",
   "metadata": {},
   "source": [
    "#     This project is a practice for python 3 "
   ]
  },
  {
   "cell_type": "markdown",
   "metadata": {},
   "source": [
    "# The operators$ +,-,*,/,**,//,=, $ %"
   ]
  },
  {
   "cell_type": "code",
   "execution_count": 24,
   "metadata": {
    "collapsed": false
   },
   "outputs": [
    {
     "name": "stdout",
     "output_type": "stream",
     "text": [
      "t1= 3 t2= 7 t3= 3.5 t4= 3 t5= 1 t6= 8\n"
     ]
    }
   ],
   "source": [
    "t1 = 1+2\n",
    "t2 = 1+2*3\n",
    "t3 = (1+2*3)/2\n",
    "t4 = (1+2*3)//2 #divide and floor\n",
    "t5 = (1+2*3)%2\n",
    "t6 = 2**3\n",
    "print(\"t1=\",t1,\"t2=\",t2,\"t3=\",t3,\"t4=\",t4,\"t5=\",t5,\"t6=\",t6)"
   ]
  },
  {
   "cell_type": "markdown",
   "metadata": {},
   "source": [
    "# The Strings test with sigle quotes('...') or double qutoes(\"...\") with same result.\n",
    " And it can use the \\ to escape quotes."
   ]
  },
  {
   "cell_type": "code",
   "execution_count": 25,
   "metadata": {
    "collapsed": false
   },
   "outputs": [
    {
     "name": "stdout",
     "output_type": "stream",
     "text": [
      "Hello world\n",
      "hello World \n",
      " Hello 'world\"\n"
     ]
    }
   ],
   "source": [
    "s1 = 'Hello world'\n",
    "s2 = \"hello World\"\n",
    "s3 = \"Hello \\'world\\\"\"\n",
    "print(s1+\"\\n\"+s2,'\\n',s3)"
   ]
  },
  {
   "cell_type": "markdown",
   "metadata": {},
   "source": [
    "# If you don't want to characters prefaced by \\ to be interpreted as special characters, you can use raw strings by adding an r before the first quote."
   ]
  },
  {
   "cell_type": "code",
   "execution_count": 26,
   "metadata": {
    "collapsed": false
   },
   "outputs": [
    {
     "name": "stdout",
     "output_type": "stream",
     "text": [
      "C:\\some\n",
      "ame\n",
      "C:\\some\\name\n",
      "C:\\some\n",
      "ame\n",
      "C:\\some\\name\n"
     ]
    }
   ],
   "source": [
    "print('C:\\some\\name')\n",
    "print(r'C:\\some\\name')\n",
    "s4 = 'C:\\some\\name'\n",
    "print(s4)\n",
    "s5 = r'C:\\some\\name'\n",
    "print(s5)"
   ]
  },
  {
   "cell_type": "markdown",
   "metadata": {},
   "source": [
    "# String literals can span multiple lines. One way is using triple-quotes: \"\"\"...\"\"\" or '''...'''. End of lines are automatically included in the string, but it’s possible to prevent this by adding a \\ at the end of the line. The following example:"
   ]
  },
  {
   "cell_type": "code",
   "execution_count": 27,
   "metadata": {
    "collapsed": false
   },
   "outputs": [
    {
     "name": "stdout",
     "output_type": "stream",
     "text": [
      "Usage: thingy [OPTIONS]\n",
      "     -h                        Display this usage message\n",
      "     -H hostname               Hostname to connect to\n",
      "\n"
     ]
    }
   ],
   "source": [
    "print(\"\"\"\\\n",
    "Usage: thingy [OPTIONS]\n",
    "     -h                        Display this usage message\n",
    "     -H hostname               Hostname to connect to\n",
    "\"\"\")"
   ]
  },
  {
   "cell_type": "markdown",
   "metadata": {},
   "source": [
    "# Strings can be concatenated (glued together) with the + operator, and repeated with *:"
   ]
  },
  {
   "cell_type": "code",
   "execution_count": 28,
   "metadata": {
    "collapsed": false
   },
   "outputs": [
    {
     "name": "stdout",
     "output_type": "stream",
     "text": [
      "hello!hello!hello!python3\n"
     ]
    }
   ],
   "source": [
    "s6 = \"hello!\"\n",
    "s7 = \"python3\"\n",
    "print(3*s6+s7)"
   ]
  },
  {
   "cell_type": "markdown",
   "metadata": {},
   "source": [
    "# The string with index"
   ]
  },
  {
   "cell_type": "code",
   "execution_count": 29,
   "metadata": {
    "collapsed": false
   },
   "outputs": [
    {
     "name": "stdout",
     "output_type": "stream",
     "text": [
      "h !!h\n"
     ]
    }
   ],
   "source": [
    "word = \"hello world !\"\n",
    "print(\n",
    "    word[0]+\n",
    "    word[5]+\n",
    "    word[12]+\n",
    "    word[-1]+\n",
    "    word[-13]\n",
    "     )"
   ]
  },
  {
   "cell_type": "markdown",
   "metadata": {},
   "source": [
    "# In addition to indexing, slicing is also supported. While indexing is used to obtain individual characters, slicing allows you to obtain substring:"
   ]
  },
  {
   "cell_type": "code",
   "execution_count": 30,
   "metadata": {
    "collapsed": false
   },
   "outputs": [
    {
     "name": "stdout",
     "output_type": "stream",
     "text": [
      "\n",
      "h\n",
      "he\n",
      "hello world \n",
      "hello world\n",
      "\n",
      "rl\n",
      "rld\n",
      "\n",
      "e\n",
      "el\n",
      "ell\n",
      "\n"
     ]
    }
   ],
   "source": [
    "print(\n",
    "word[0:0]+\"\\n\"\n",
    "+word[0:1]+\"\\n\"\n",
    "+word[0:2]+\"\\n\"  # characters from position 0 (included包括) to 2 (excluded扣除)\n",
    "+word[0:-1]+\"\\n\"\n",
    "+word[0:-2]+\"\\n\"\n",
    "+word[-1:5]+\"\\n\"\n",
    "+word[-5:-3]+\"\\n\"\n",
    "+word[-5:-2]+\"\\n\"    \n",
    "+word[1:1]+\"\\n\"\n",
    "+word[1:2]+\"\\n\"\n",
    "+word[1:3]+\"\\n\"\n",
    "+word[1:4]+\"\\n\"\n",
    ")"
   ]
  },
  {
   "cell_type": "markdown",
   "metadata": {},
   "source": [
    " h    e   l   l   o  _  w  o  r  l   d   _  !   \n",
    " 0    1   2   3   4  5  6  7  8  9  10  11 12    \n",
    "-13  -12 -11 -10 -9 -8 -7 -6 -5 -4  -3  -2 -1    \n",
    "點開來看就能看到對齊的版本"
   ]
  },
  {
   "cell_type": "code",
   "execution_count": 31,
   "metadata": {
    "collapsed": false
   },
   "outputs": [
    {
     "name": "stdout",
     "output_type": "stream",
     "text": [
      "lo world !\n",
      "hel\n",
      "\n"
     ]
    }
   ],
   "source": [
    "print(\n",
    "    word[3:]+\"\\n\"\n",
    "    +word[:3]+\"\\n\"    \n",
    "    )\n"
   ]
  },
  {
   "cell_type": "markdown",
   "metadata": {
    "collapsed": true
   },
   "source": [
    "# Learning about LIST"
   ]
  },
  {
   "cell_type": "code",
   "execution_count": 32,
   "metadata": {
    "collapsed": false
   },
   "outputs": [
    {
     "data": {
      "text/plain": [
       "[1, 4, 9, 16, 25]"
      ]
     },
     "execution_count": 32,
     "metadata": {},
     "output_type": "execute_result"
    }
   ],
   "source": [
    "list1 = [1,4,9,16,25]\n",
    "list1"
   ]
  },
  {
   "cell_type": "code",
   "execution_count": 33,
   "metadata": {
    "collapsed": false
   },
   "outputs": [
    {
     "data": {
      "text/plain": [
       "[1, 4, 9, 16, 25, 36, 49, 64, 81, 100]"
      ]
     },
     "execution_count": 33,
     "metadata": {},
     "output_type": "execute_result"
    }
   ],
   "source": [
    "list1 + [36,49,64,81,100]"
   ]
  },
  {
   "cell_type": "code",
   "execution_count": 34,
   "metadata": {
    "collapsed": false
   },
   "outputs": [
    {
     "data": {
      "text/plain": [
       "[1, 4, 9, 16, 25, 36, 49, 64, 81, 100, 121]"
      ]
     },
     "execution_count": 34,
     "metadata": {},
     "output_type": "execute_result"
    }
   ],
   "source": [
    "list1 = list1 + [36,49,64,81,100]\n",
    "list1.append(121)\n",
    "list1"
   ]
  },
  {
   "cell_type": "code",
   "execution_count": 35,
   "metadata": {
    "collapsed": false
   },
   "outputs": [
    {
     "data": {
      "text/plain": [
       "['a', 'b', 'c', 'd', 'e', 'f', 'g']"
      ]
     },
     "execution_count": 35,
     "metadata": {},
     "output_type": "execute_result"
    }
   ],
   "source": [
    "list2 = ['a','b','c','d','e','f','g']\n",
    "list2"
   ]
  },
  {
   "cell_type": "code",
   "execution_count": 37,
   "metadata": {
    "collapsed": false
   },
   "outputs": [
    {
     "data": {
      "text/plain": [
       "['a', 'b', 'C', 'D', 'E', 'f', 'g']"
      ]
     },
     "execution_count": 37,
     "metadata": {},
     "output_type": "execute_result"
    }
   ],
   "source": [
    "list2[2:5] = ['C','D','E']\n",
    "list2"
   ]
  },
  {
   "cell_type": "code",
   "execution_count": 39,
   "metadata": {
    "collapsed": false
   },
   "outputs": [
    {
     "data": {
      "text/plain": [
       "[[1, 4, 9, 16, 25, 36, 49, 64, 81, 100, 121],\n",
       " ['a', 'b', 'C', 'D', 'E', 'f', 'g']]"
      ]
     },
     "execution_count": 39,
     "metadata": {},
     "output_type": "execute_result"
    }
   ],
   "source": [
    "list3 = [list1,list2]\n",
    "list3"
   ]
  },
  {
   "cell_type": "markdown",
   "metadata": {},
   "source": [
    "# Learning the Programming"
   ]
  },
  {
   "cell_type": "code",
   "execution_count": 44,
   "metadata": {
    "collapsed": false
   },
   "outputs": [
    {
     "name": "stdout",
     "output_type": "stream",
     "text": [
      "30\n",
      "1\n",
      "1\n",
      "2\n",
      "3\n",
      "5\n",
      "8\n",
      "13\n",
      "21\n"
     ]
    }
   ],
   "source": [
    "#Fibonacci series:\n",
    "a1,a2 = 0,1\n",
    "f =int(input())\n",
    "while a2<f:\n",
    "    print(a2)\n",
    "    a1,a2 = a2, a1+a2"
   ]
  },
  {
   "cell_type": "code",
   "execution_count": 48,
   "metadata": {
    "collapsed": false
   },
   "outputs": [
    {
     "name": "stdout",
     "output_type": "stream",
     "text": [
      "Please enter an ineger: -5\n",
      "x1= -5 it is negative number\n"
     ]
    }
   ],
   "source": [
    "x1 = int(input(\"Please enter an ineger: \"))\n",
    "if x1<0:\n",
    "    print(\"x1=\",x1,\"it is negative number\")\n",
    "elif x1==0:\n",
    "    print(\"x1=\",x1,\"it is zero\")\n",
    "elif x1==1:\n",
    "    print(\"x1=\",x1,\"it is one\")\n",
    "else:\n",
    "    print(\"x1=\",x1,\"it is positive number\")"
   ]
  },
  {
   "cell_type": "markdown",
   "metadata": {},
   "source": [
    "# Learning about the statement for in Python"
   ]
  },
  {
   "cell_type": "code",
   "execution_count": 49,
   "metadata": {
    "collapsed": false
   },
   "outputs": [
    {
     "name": "stdout",
     "output_type": "stream",
     "text": [
      "hello 5\n",
      "world 5\n",
      "DSMI 4\n",
      "compressed sensing 18\n"
     ]
    }
   ],
   "source": [
    "w2 = ['hello','world','DSMI','compressed sensing']\n",
    "for w in w2:\n",
    "    print(w,len(w))"
   ]
  },
  {
   "cell_type": "code",
   "execution_count": 54,
   "metadata": {
    "collapsed": false
   },
   "outputs": [
    {
     "data": {
      "text/plain": [
       "['compressed sensing',\n",
       " 'hello',\n",
       " 'world',\n",
       " 'DSMI',\n",
       " 'compressed sensing',\n",
       " 'compressed sensing']"
      ]
     },
     "execution_count": 54,
     "metadata": {},
     "output_type": "execute_result"
    }
   ],
   "source": [
    "w2 = ['hello','world','DSMI','compressed sensing']\n",
    "for w in w2[:]: #避免進入無窮迴圈\n",
    "    if len(w)>10:\n",
    "        w2.insert(0,w)\n",
    "        w2.insert(-1,w)\n",
    "w2"
   ]
  },
  {
   "cell_type": "markdown",
   "metadata": {},
   "source": [
    "# The range() function"
   ]
  },
  {
   "cell_type": "code",
   "execution_count": 55,
   "metadata": {
    "collapsed": false
   },
   "outputs": [
    {
     "name": "stdout",
     "output_type": "stream",
     "text": [
      "0\n",
      "1\n",
      "2\n",
      "3\n",
      "4\n"
     ]
    }
   ],
   "source": [
    "for i in range(5) :\n",
    "    print(i)"
   ]
  },
  {
   "cell_type": "code",
   "execution_count": 66,
   "metadata": {
    "collapsed": false
   },
   "outputs": [
    {
     "name": "stdout",
     "output_type": "stream",
     "text": [
      "range(5, 10) range(5, 10, 2) range(-1, -100, -30)\n"
     ]
    }
   ],
   "source": [
    "rr1 = range(5,10)\n",
    "rr2 = range(5,10,2)\n",
    "rr3 = range(-1,-100,-30)\n",
    "print(rr1,rr2,rr3)"
   ]
  },
  {
   "cell_type": "code",
   "execution_count": 68,
   "metadata": {
    "collapsed": false
   },
   "outputs": [
    {
     "name": "stdout",
     "output_type": "stream",
     "text": [
      "0 compressed sensing\n",
      "1 hello\n",
      "2 world\n",
      "3 DSMI\n",
      "4 compressed sensing\n",
      "5 compressed sensing\n"
     ]
    }
   ],
   "source": [
    "for i in range(len(w2)) :\n",
    "    print(i,w2[i])"
   ]
  },
  {
   "cell_type": "code",
   "execution_count": 73,
   "metadata": {
    "collapsed": false
   },
   "outputs": [
    {
     "name": "stdout",
     "output_type": "stream",
     "text": [
      "[5, 6, 7, 8, 9] [5, 7, 9] [-1, -31, -61, -91]\n"
     ]
    }
   ],
   "source": [
    "print(list(rr1),list(rr2),list(rr3))\n"
   ]
  },
  {
   "cell_type": "markdown",
   "metadata": {},
   "source": [
    "# Defining Functions"
   ]
  },
  {
   "cell_type": "code",
   "execution_count": 109,
   "metadata": {
    "collapsed": false
   },
   "outputs": [],
   "source": [
    "def prime(n): #determining whether n is prime or not\n",
    "    if n <=1:\n",
    "        print(n,\"is not prime\")\n",
    "        return\n",
    "    for i in range(2,int(n**(1/2))+1) :\n",
    "        if n%i==0 :\n",
    "            print(n,\"is not prime\")\n",
    "            return \n",
    "    print(n,\"is prime\")"
   ]
  },
  {
   "cell_type": "code",
   "execution_count": 110,
   "metadata": {
    "collapsed": false
   },
   "outputs": [
    {
     "name": "stdout",
     "output_type": "stream",
     "text": [
      "101 is prime\n"
     ]
    }
   ],
   "source": [
    "prime(101)"
   ]
  },
  {
   "cell_type": "code",
   "execution_count": 129,
   "metadata": {
    "collapsed": false
   },
   "outputs": [],
   "source": [
    "def fib(n):\n",
    "    if n==0 or n==1:\n",
    "       # print(n,\"b\")\n",
    "        return 1\n",
    "    elif n>1:\n",
    "       # print(n)\n",
    "        return fib(n-1)+fib(n-2)\n",
    "    else:\n",
    "        print(n,\"error\")\n",
    "        return -1"
   ]
  },
  {
   "cell_type": "code",
   "execution_count": 131,
   "metadata": {
    "collapsed": false
   },
   "outputs": [
    {
     "data": {
      "text/plain": [
       "89"
      ]
     },
     "execution_count": 131,
     "metadata": {},
     "output_type": "execute_result"
    }
   ],
   "source": [
    "fib(10)"
   ]
  },
  {
   "cell_type": "code",
   "execution_count": null,
   "metadata": {
    "collapsed": true
   },
   "outputs": [],
   "source": []
  }
 ],
 "metadata": {
  "kernelspec": {
   "display_name": "Python [Root]",
   "language": "python",
   "name": "Python [Root]"
  },
  "language_info": {
   "codemirror_mode": {
    "name": "ipython",
    "version": 3
   },
   "file_extension": ".py",
   "mimetype": "text/x-python",
   "name": "python",
   "nbconvert_exporter": "python",
   "pygments_lexer": "ipython3",
   "version": "3.5.2"
  }
 },
 "nbformat": 4,
 "nbformat_minor": 0
}
