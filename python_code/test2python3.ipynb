{
 "cells": [
  {
   "cell_type": "markdown",
   "metadata": {},
   "source": [
    "#     This project is a practice for python 3 "
   ]
  },
  {
   "cell_type": "markdown",
   "metadata": {},
   "source": [
    "The operators$ +,-,*,/,**,//,=, $ %"
   ]
  },
  {
   "cell_type": "code",
   "execution_count": 11,
   "metadata": {
    "collapsed": false
   },
   "outputs": [
    {
     "name": "stdout",
     "output_type": "stream",
     "text": [
      "t1= 3 t2= 7 t3= 3.5 t4= 3 t5= 1 t6= 8\n"
     ]
    }
   ],
   "source": [
    "t1 = 1+2\n",
    "t2 = 1+2*3\n",
    "t3 = (1+2*3)/2\n",
    "t4 = (1+2*3)//2 #divide and floor\n",
    "t5 = (1+2*3)%2\n",
    "t6 = 2**3\n",
    "print(\"t1=\",t1,\"t2=\",t2,\"t3=\",t3,\"t4=\",t4,\"t5=\",t5,\"t6=\",t6)"
   ]
  },
  {
   "cell_type": "markdown",
   "metadata": {},
   "source": [
    "The Strings test with sigle quotes('...') or double qutoes(\"...\") with same result.\n",
    "And it can use the \\ to escape quotes."
   ]
  },
  {
   "cell_type": "code",
   "execution_count": 19,
   "metadata": {
    "collapsed": false
   },
   "outputs": [
    {
     "name": "stdout",
     "output_type": "stream",
     "text": [
      "Hello world\n",
      "hello World \n",
      " Hello 'world\"\n"
     ]
    }
   ],
   "source": [
    "s1 = 'Hello world'\n",
    "s2 = \"hello World\"\n",
    "s3 = \"Hello \\'world\\\"\"\n",
    "print(s1+\"\\n\"+s2,'\\n',s3)"
   ]
  },
  {
   "cell_type": "markdown",
   "metadata": {},
   "source": [
    "If you don't want to characters prefaced by \\ to be interpreted as special characters, you can use raw strings by adding an r before the first quote."
   ]
  },
  {
   "cell_type": "code",
   "execution_count": 30,
   "metadata": {
    "collapsed": false
   },
   "outputs": [
    {
     "name": "stdout",
     "output_type": "stream",
     "text": [
      "C:\\some\n",
      "ame\n",
      "C:\\some\\name\n",
      "C:\\some\n",
      "ame\n",
      "C:\\some\\name\n"
     ]
    }
   ],
   "source": [
    "print('C:\\some\\name')\n",
    "print(r'C:\\some\\name')\n",
    "s4 = 'C:\\some\\name'\n",
    "print(s4)\n",
    "s5 = r'C:\\some\\name'\n",
    "print(s5)"
   ]
  },
  {
   "cell_type": "code",
   "execution_count": null,
   "metadata": {
    "collapsed": true
   },
   "outputs": [],
   "source": []
  }
 ],
 "metadata": {
  "kernelspec": {
   "display_name": "Python [Root]",
   "language": "python",
   "name": "Python [Root]"
  },
  "language_info": {
   "codemirror_mode": {
    "name": "ipython",
    "version": 3
   },
   "file_extension": ".py",
   "mimetype": "text/x-python",
   "name": "python",
   "nbconvert_exporter": "python",
   "pygments_lexer": "ipython3",
   "version": "3.5.2"
  }
 },
 "nbformat": 4,
 "nbformat_minor": 0
}
