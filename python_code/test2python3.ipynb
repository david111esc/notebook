{
 "cells": [
  {
   "cell_type": "markdown",
   "metadata": {},
   "source": [
    "#     This project is a practice for python 3 "
   ]
  },
  {
   "cell_type": "markdown",
   "metadata": {},
   "source": [
    "The operators$ +,-,*,/,**,//,=, $ %"
   ]
  },
  {
   "cell_type": "code",
   "execution_count": 11,
   "metadata": {
    "collapsed": false
   },
   "outputs": [
    {
     "name": "stdout",
     "output_type": "stream",
     "text": [
      "t1= 3 t2= 7 t3= 3.5 t4= 3 t5= 1 t6= 8\n"
     ]
    }
   ],
   "source": [
    "t1 = 1+2\n",
    "t2 = 1+2*3\n",
    "t3 = (1+2*3)/2\n",
    "t4 = (1+2*3)//2 #divide and floor\n",
    "t5 = (1+2*3)%2\n",
    "t6 = 2**3\n",
    "print(\"t1=\",t1,\"t2=\",t2,\"t3=\",t3,\"t4=\",t4,\"t5=\",t5,\"t6=\",t6)"
   ]
  },
  {
   "cell_type": "markdown",
   "metadata": {},
   "source": [
    "The Strings test with sigle quotes('...') or double qutoes(\"...\") with same result.\n",
    "And it can use the \\ to escape quotes."
   ]
  },
  {
   "cell_type": "code",
   "execution_count": 19,
   "metadata": {
    "collapsed": false
   },
   "outputs": [
    {
     "name": "stdout",
     "output_type": "stream",
     "text": [
      "Hello world\n",
      "hello World \n",
      " Hello 'world\"\n"
     ]
    }
   ],
   "source": [
    "s1 = 'Hello world'\n",
    "s2 = \"hello World\"\n",
    "s3 = \"Hello \\'world\\\"\"\n",
    "print(s1+\"\\n\"+s2,'\\n',s3)"
   ]
  },
  {
   "cell_type": "markdown",
   "metadata": {},
   "source": [
    "If you don't want to characters prefaced by \\ to be interpreted as special characters, you can use raw strings by adding an r before the first quote."
   ]
  },
  {
   "cell_type": "code",
   "execution_count": 30,
   "metadata": {
    "collapsed": false
   },
   "outputs": [
    {
     "name": "stdout",
     "output_type": "stream",
     "text": [
      "C:\\some\n",
      "ame\n",
      "C:\\some\\name\n",
      "C:\\some\n",
      "ame\n",
      "C:\\some\\name\n"
     ]
    }
   ],
   "source": [
    "print('C:\\some\\name')\n",
    "print(r'C:\\some\\name')\n",
    "s4 = 'C:\\some\\name'\n",
    "print(s4)\n",
    "s5 = r'C:\\some\\name'\n",
    "print(s5)"
   ]
  },
  {
   "cell_type": "markdown",
   "metadata": {},
   "source": [
    "String literals can span multiple lines. One way is using triple-quotes: \"\"\"...\"\"\" or '''...'''. End of lines are automatically included in the string, but it’s possible to prevent this by adding a \\ at the end of the line. The following example:"
   ]
  },
  {
   "cell_type": "code",
   "execution_count": 52,
   "metadata": {
    "collapsed": false
   },
   "outputs": [
    {
     "name": "stdout",
     "output_type": "stream",
     "text": [
      "Usage: thingy [OPTIONS]\n",
      "     -h                        Display this usage message\n",
      "     -H hostname               Hostname to connect to\n",
      "\n"
     ]
    }
   ],
   "source": [
    "print(\"\"\"\\\n",
    "Usage: thingy [OPTIONS]\n",
    "     -h                        Display this usage message\n",
    "     -H hostname               Hostname to connect to\n",
    "\"\"\")"
   ]
  },
  {
   "cell_type": "markdown",
   "metadata": {},
   "source": [
    "Strings can be concatenated (glued together) with the + operator, and repeated with *:"
   ]
  },
  {
   "cell_type": "code",
   "execution_count": 31,
   "metadata": {
    "collapsed": false
   },
   "outputs": [
    {
     "name": "stdout",
     "output_type": "stream",
     "text": [
      "hello!hello!hello!python3\n"
     ]
    }
   ],
   "source": [
    "s6 = \"hello!\"\n",
    "s7 = \"python3\"\n",
    "print(3*s6+s7)"
   ]
  },
  {
   "cell_type": "markdown",
   "metadata": {},
   "source": [
    "The string with index"
   ]
  },
  {
   "cell_type": "code",
   "execution_count": 53,
   "metadata": {
    "collapsed": false
   },
   "outputs": [
    {
     "name": "stdout",
     "output_type": "stream",
     "text": [
      "h !!h\n"
     ]
    }
   ],
   "source": [
    "word = \"hello world !\"\n",
    "print(\n",
    "    word[0]+\n",
    "    word[5]+\n",
    "    word[12]+\n",
    "    word[-1]+\n",
    "    word[-13]\n",
    "     )"
   ]
  },
  {
   "cell_type": "markdown",
   "metadata": {},
   "source": [
    "In addition to indexing, slicing is also supported. While indexing is used to obtain individual characters, slicing allows you to obtain substring:"
   ]
  },
  {
   "cell_type": "code",
   "execution_count": 76,
   "metadata": {
    "collapsed": false
   },
   "outputs": [
    {
     "name": "stdout",
     "output_type": "stream",
     "text": [
      "\n",
      "h\n",
      "he\n",
      "hello world \n",
      "hello world\n",
      "\n",
      "rl\n",
      "rld\n",
      "\n",
      "e\n",
      "el\n",
      "ell\n",
      "\n"
     ]
    }
   ],
   "source": [
    "print(\n",
    "word[0:0]+\"\\n\"\n",
    "+word[0:1]+\"\\n\"\n",
    "+word[0:2]+\"\\n\"  # characters from position 0 (included包括) to 2 (excluded扣除)\n",
    "+word[0:-1]+\"\\n\"\n",
    "+word[0:-2]+\"\\n\"\n",
    "+word[-1:5]+\"\\n\"\n",
    "+word[-5:-3]+\"\\n\"\n",
    "+word[-5:-2]+\"\\n\"    \n",
    "+word[1:1]+\"\\n\"\n",
    "+word[1:2]+\"\\n\"\n",
    "+word[1:3]+\"\\n\"\n",
    "+word[1:4]+\"\\n\"\n",
    ")"
   ]
  },
  {
   "cell_type": "markdown",
   "metadata": {},
   "source": [
    " h    e   l   l   o  _  w  o  r  l   d   _  !   \n",
    " 0    1   2   3   4  5  6  7  8  9  10  11 12    \n",
    "-13  -12 -11 -10 -9 -8 -7 -6 -5 -4  -3  -2 -1    \n",
    "點開來看就能看到對齊的版本"
   ]
  },
  {
   "cell_type": "code",
   "execution_count": 74,
   "metadata": {
    "collapsed": false
   },
   "outputs": [
    {
     "name": "stdout",
     "output_type": "stream",
     "text": [
      "lo world !\n",
      "hel\n",
      "\n"
     ]
    }
   ],
   "source": [
    "print(\n",
    "    word[3:]+\"\\n\"\n",
    "    +word[:3]+\"\\n\"    \n",
    "    )\n"
   ]
  },
  {
   "cell_type": "code",
   "execution_count": null,
   "metadata": {
    "collapsed": true
   },
   "outputs": [],
   "source": []
  }
 ],
 "metadata": {
  "kernelspec": {
   "display_name": "Python [Root]",
   "language": "python",
   "name": "Python [Root]"
  },
  "language_info": {
   "codemirror_mode": {
    "name": "ipython",
    "version": 3
   },
   "file_extension": ".py",
   "mimetype": "text/x-python",
   "name": "python",
   "nbconvert_exporter": "python",
   "pygments_lexer": "ipython3",
   "version": "3.5.2"
  }
 },
 "nbformat": 4,
 "nbformat_minor": 0
}
